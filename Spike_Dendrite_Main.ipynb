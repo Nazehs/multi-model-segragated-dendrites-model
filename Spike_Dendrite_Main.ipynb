{ "cells": [
  {
   "cell_type": "code",
   "execution_count": 1,
   "id": "ec0dbe63-60bd-43d2-b848-48e5d6fe74db",
   "metadata": {
    "colab": {
     "base_uri": "https://localhost:8080/",
     "height": 351
    },
    "executionInfo": {
     "elapsed": 219,
     "status": "error",
     "timestamp": 1637843222171,
     "user": {
      "displayName": "Mohsin Naseem",
      "photoUrl": "https://lh3.googleusercontent.com/a/default-user=s64",
      "userId": "05120054950531209312"
     },
     "user_tz": 0
    },
    "id": "ec0dbe63-60bd-43d2-b848-48e5d6fe74db",
    "outputId": "13b8e270-2745-40f1-a90c-c1d0773db9c9"
   },
   "outputs": [
    {
     "name": "stdout",
     "output_type": "stream",
     "text": [
      "* ------------ Running in non-spiking mode. ------------ *\n"
     ]
    }
   ],
   "source": [
    "import deep_learning as dl\n",
    "import numpy as np\n",
    "import pandas as pd\n",
    "import matplotlib.pyplot as plt\n",
    "# silence 80% of feedback weights\n",
    "dl.use_sparse_feedback = True\n",
    "# dl.update_feedback_weights = True\n",
    "# dl.use_backprop = True"
   ]
  },
  {
   "cell_type": "code",
   "execution_count": 2,
   "id": "e59a6d45-4105-48f3-a59d-22a2e71f4127",
   "metadata": {
    "executionInfo": {
     "elapsed": 5,
     "status": "aborted",
     "timestamp": 1637843159164,
     "user": {
      "displayName": "Mohsin Naseem",
      "photoUrl": "https://lh3.googleusercontent.com/a/default-user=s64",
      "userId": "05120054950531209312"
     },
     "user_tz": 0
    },
    "id": "e59a6d45-4105-48f3-a59d-22a2e71f4127"
   },
   "outputs": [],
   "source": [
    "# set training parameters\n",
    "# f_etas = (0.23,.23, .23, .23,.12,)\n",
    "# b_etas = None\n",
    "# b_etas = (.1, .1, .1, .1)\n",
    "f_etas = (0.19, 0.21, 0.21, 0.21)\n",
    "\n",
    "b_etas = (0.12,0.12,0.12,0.12)\n",
    "n_epochs = 60\n",
    "n_training_examples = 60000"
   ]
  },
  {
   "cell_type": "code",
   "execution_count": 3,
   "id": "20988db9-27fd-408a-bb3f-f91cc85de47e",
   "metadata": {
    "executionInfo": {
     "elapsed": 5,
     "status": "aborted",
     "timestamp": 1637843159165,
     "user": {
      "displayName": "Mohsin Naseem",
      "photoUrl": "https://lh3.googleusercontent.com/a/default-user=s64",
      "userId": "05120054950531209312"
     },
     "user_tz": 0
    },
    "id": "20988db9-27fd-408a-bb3f-f91cc85de47e"
   },
   "outputs": [
    {
     "name": "stdout",
     "output_type": "stream",
     "text": [
      "Creating network with 3 layers.\n",
      "--------------------------------\n",
      "Current network weights:\n",
      "--------------------------------\n",
      "Layer 2 -- 10 units.\n",
      "\tW_avg: 0.078335,\tW_sd: 1.640763.\n",
      "\tb_avg: 0.799861,\tb_sd: 0.002086.\n",
      "Layer 1 -- 300 units.\n",
      "\tW_avg_left: 0.028703,\tW_sd_left: 1.266289.\n",
      "\tb_avg_left: 0.800017,\tb_sd_left: 0.002037.\n",
      "\tW_avg_right: 0.037711,\tW_sd_right: 1.262281.\n",
      "\tb_avg_right: 0.800068,\tb_sd_right: 0.002006.\n",
      "\tY_avg_left: 0.082206,\tY_sd_left: 3.611670.\n",
      "\tY_avg_right: 0.061974,\tY_sd_right: 3.644618.\n",
      "Layer 0 -- 500 units.\n",
      "\tW_avg_left: 0.037075,\tW_sd_left: 1.426404.\n",
      "\tb_avg_left: 0.800018,\tb_sd_left: 0.001949.\n",
      "\tW_avg_right: 0.035545,\tW_sd_right: 1.429201.\n",
      "\tb_avg_right: 0.800059,\tb_sd_right: 0.002027.\n",
      "\tY_avg_left: 2.280320,\tY_sd_left: 80.247104.\n",
      "\tY_avg_right: 3.015941,\tY_sd_right: 79.250007.\n",
      "--------------------------------\n"
     ]
    }
   ],
   "source": [
    "# create the network -- this will also load the MNIST dataset files\n",
    "net = dl.Network(n=(500,300, 10))"
   ]
  },
  {
   "cell_type": "code",
   "execution_count": null,
   "id": "4f866486",
   "metadata": {
    "id": "4f866486",
    "scrolled": true
   },
   "outputs": [
    {
     "name": "stdout",
     "output_type": "stream",
     "text": [
      "Starting training.\n",
      "\n",
      "Start of epoch 1.\n",
      "\n",
      "Epoch 1, example 1000/60000. Q E: 88.00%. T: 8.171s.[2K\u001b[2K\u001b[2K\u001b[2K\u001b[2K\n",
      "\n",
      "Epoch 1, example 2000/60000. Q E: 87.00%. T: 7.707s.\u001b[2K\u001b[2K\u001b[2K\u001b[2K\u001b[2K\n",
      "\n",
      "Epoch 1, example 3000/60000. Q E: 85.00%. T: 7.337s.\u001b[2K\u001b[2K\u001b[2K\u001b[2K\u001b[2K\n",
      "\n",
      "Epoch 1, example 4000/60000. Q E: 89.00%. T: 6.189s.\u001b[2K\u001b[2K\u001b[2K\u001b[2K\u001b[2K\n",
      "\n",
      "Epoch 1, example 5000/60000. Q E: 89.00%. T: 5.743s.\u001b[2K\u001b[2K\u001b[2K\u001b[2K\u001b[2K\n",
      "\n",
      "Epoch 1, example 6000/60000. Q E: 86.00%. T: 6.059s.\u001b[2K\u001b[2K\u001b[2K\u001b[2K\u001b[2K\n",
      "\n",
      "Epoch 1, example 7000/60000. Q E: 89.00%. T: 5.987s.\u001b[2K\u001b[2K\u001b[2K\u001b[2K\u001b[2K\n",
      "\n",
      "Epoch 1, example 8000/60000. Q E: 82.00%. T: 6.964s.\u001b[2K\u001b[2K\u001b[2K\u001b[2K\u001b[2K\n",
      "\n",
      "Epoch 1, example 9000/60000. Q E: 85.00%. T: 6.786s.\u001b[2K\u001b[2K\u001b[2K\u001b[2K\u001b[2K\n",
      "\n",
      "Epoch 1, example 10000/60000. Q E: 85.00%. T: 8.775s.[2K\u001b[2K\u001b[2K\u001b[2K\u001b[2K\n",
      "\n",
      "Epoch 1, example 11000/60000. Q E: 85.00%. T: 7.902s.\u001b[2K\u001b[2K\u001b[2K\u001b[2K\u001b[2K\n",
      "\n",
      "Epoch 1, example 12000/60000. Q E: 85.00%. T: 6.331s.\u001b[2K\u001b[2K\u001b[2K\u001b[2K\u001b[2K\n",
      "\n",
      "Epoch 1, example 13000/60000. Q E: 82.00%. T: 5.986s.\u001b[2K\u001b[2K\u001b[2K\u001b[2K\u001b[2K\n",
      "\n",
      "Epoch 1, example 14000/60000. Q E: 82.00%. T: 5.723s.\u001b[2K\u001b[2K\u001b[2K\u001b[2K\u001b[2K\n",
      "\n",
      "Epoch 1, example 15000/60000. Q E: 88.00%. T: 6.219s.\u001b[2K\u001b[2K\u001b[2K\u001b[2K\u001b[2K\n",
      "\n",
      "Epoch 1, example 16000/60000. Q E: 82.00%. T: 5.638s.\u001b[2K\u001b[2K\u001b[2K\u001b[2K\u001b[2K\n",
      "\n",
      "Epoch 1, example 17000/60000. Q E: 89.00%. T: 5.751s.\u001b[2K\u001b[2K\u001b[2K\u001b[2K\u001b[2K\n",
      "\n",
      "Epoch 1, example 18000/60000. Q E: 84.00%. T: 6.048s.\u001b[2K\u001b[2K\u001b[2K\u001b[2K\u001b[2K\n",
      "\n",
      "Epoch 1, example 19000/60000. Q E: 89.00%. T: 6.185s.\u001b[2K\u001b[2K\u001b[2K\u001b[2K\u001b[2K\n",
      "\n",
      "Epoch 1, example 20000/60000. Q E: 83.00%. T: 6.641s.\u001b[2K\u001b[2K\u001b[2K\u001b[2K\u001b[2K\n",
      "\n",
      "Epoch 1, example 21000/60000. Q E: 85.00%. T: 9.543s.\u001b[2K\u001b[2K\u001b[2K\u001b[2K\u001b[2K\n",
      "\n",
      "Epoch 1, example 22000/60000. Q E: 82.00%. T: 7.265s.\u001b[2K\u001b[2K\u001b[2K\u001b[2K\u001b[2K\n",
      "\n",
      "Epoch 1, example 23000/60000. Q E: 83.00%. T: 7.757s.\u001b[2K\u001b[2K\u001b[2K\u001b[2K\u001b[2K\n",
      "\n",
      "Epoch 1, example 24000/60000. Q E: 85.00%. T: 5.617s.\u001b[2K\u001b[2K\u001b[2K\u001b[2K\u001b[2K\n",
      "\n",
      "Epoch 1, example 25000/60000. Q E: 84.00%. T: 6.281s.\u001b[2K\u001b[2K\u001b[2K\u001b[2K\u001b[2K\n",
      "\n",
      "Epoch 1, example 26000/60000. Q E: 85.00%. T: 6.742s.\u001b[2K\u001b[2K\u001b[2K\u001b[2K\u001b[2K\n",
      "\n",
      "Epoch 1, example 27000/60000. Q E: 85.00%. T: 6.567s.\u001b[2K\u001b[2K\u001b[2K\u001b[2K\u001b[2K\n",
      "\n",
      "Epoch 1, example 28000/60000. Q E: 84.00%. T: 7.265s.\u001b[2K\u001b[2K\u001b[2K\u001b[2K\u001b[2K\n",
      "\n",
      "Epoch 1, example 29000/60000. Q E: 84.00%. T: 7.986s.\u001b[2K\u001b[2K\u001b[2K\u001b[2K\u001b[2K\n",
      "\n",
      "Epoch 1, example 30000/60000. Q E: 87.00%. T: 6.018s.\u001b[2K\u001b[2K\u001b[2K\u001b[2K\u001b[2K\n",
      "\n",
      "Epoch 1, example 31000/60000. Q E: 85.00%. T: 5.746s.\u001b[2K\u001b[2K\u001b[2K\u001b[2K\u001b[2K\n",
      "\n",
      "Epoch 1, example 32000/60000. Q E: 88.00%. T: 6.470s.\u001b[2K\u001b[2K\u001b[2K\u001b[2K\u001b[2K\n",
      "\n",
      "Epoch 1, example 33000/60000. Q E: 92.00%. T: 6.722s.\u001b[2K\u001b[2K\u001b[2K\u001b[2K\u001b[2K\n",
      "\n",
      "Epoch 1, example 34000/60000. Q E: 94.00%. T: 6.791s.\u001b[2K\u001b[2K\u001b[2K\u001b[2K\u001b[2K\n",
      "\n",
      "Epoch 1, example 35000/60000. Q E: 90.00%. T: 6.646s.\u001b[2K\u001b[2K\u001b[2K\u001b[2K\u001b[2K\n",
      "\n",
      "Epoch 1, example 36000/60000. Q E: 90.00%. T: 6.365s.\u001b[2K\u001b[2K\u001b[2K\u001b[2K\u001b[2K\n",
      "\n",
      "Epoch 1, example 37000/60000. Q E: 91.00%. T: 6.482s.\u001b[2K\u001b[2K\u001b[2K\u001b[2K\u001b[2K\n",
      "\n",
      "Epoch 1, example 38000/60000. Q E: 86.00%. T: 6.947s.\u001b[2K\u001b[2K\u001b[2K\u001b[2K\u001b[2K\n",
      "\n",
      "Epoch 1, example 39000/60000. Q E: 93.00%. T: 7.480s.\u001b[2K\u001b[2K\u001b[2K\u001b[2K\u001b[2K\n",
      "\n",
      "Epoch 1, example 40000/60000. Q E: 85.00%. T: 7.135s.\u001b[2K\u001b[2K\u001b[2K\u001b[2K\u001b[2K\n",
      "\n",
      "Epoch 1, example 41000/60000. Q E: 93.00%. T: 7.129s.\u001b[2K\u001b[2K\u001b[2K\u001b[2K\u001b[2K\n",
      "\n",
      "Epoch 1, example 42000/60000. Q E: 89.00%. T: 7.214s.\u001b[2K\u001b[2K\u001b[2K\u001b[2K\u001b[2K\n",
      "\n",
      "Epoch 1, example 43000/60000. Q E: 89.00%. T: 6.338s.\u001b[2K\u001b[2K\u001b[2K\u001b[2K\u001b[2K\n",
      "\n",
      "Epoch 1, example 44000/60000. Q E: 93.00%. 2K\u001b[2K\u001b[2K\u001b[2K\u001b[2K\u001b[2K\u001b[2K\u001b[2KT: 5.709s.\n",
      "\n",
      "Epoch 1, example 45000/60000. Q E: 89.00%. T: 5.836s.\u001b[2K\u001b[2K\u001b[2K\u001b[2K\u001b[2K\n",
      "\n",
      "Epoch 1, example 46000/60000. Q E: 89.00%. T: 7.240s.\u001b[2K\u001b[2K\u001b[2K\u001b[2K\u001b[2K\n",
      "\n",
      "Epoch 1, example 46800/60000.\u001b[2K\u001b[2K\u001b[2K\u001b[2K\u001b[2K\u001b[2K\u001b[2K"
     ]
    }
   ],
   "source": [
    "# train the network for x epochs\n",
    "net.train(f_etas, b_etas, n_epochs, n_training_examples, save_simulation=True, simulations_folder=\"Simulations\", folder_name=\"Example Simulation/spike_dendrite_500_10\")"
   ]
  },
  {
   "cell_type": "code",
   "execution_count": null,
   "id": "5b95f1cf",
   "metadata": {},
   "outputs": [],
   "source": [
    "data_prediction = pd.DataFrame({'Actual': dl.test_sample,\n",
    "                  'Predicted': dl.prediction, })"
   ]
  },
  {
   "cell_type": "code",
   "execution_count": null,
   "id": "3f45881f",
   "metadata": {},
   "outputs": [],
   "source": [
    "data_prediction.to_csv('./500_10/data_prediction_sim_500_10.csv')"
   ]
  },
  {
   "cell_type": "code",
   "execution_count": null,
   "id": "96f5fbf4",
   "metadata": {},
   "outputs": [],
   "source": [
    "data = pd.DataFrame({'final_test_error': np.loadtxt(\"Simulations/Example Simulation/500_10/full_test_errors.txt\"), \n",
    "                  'epoch': range(n_epochs), })"
   ]
  },
  {
   "cell_type": "code",
   "execution_count": null,
   "id": "216145a2",
   "metadata": {},
   "outputs": [],
   "source": [
    "data.to_csv('./500_10/data_test_error_sim_500_10.csv')"
   ]
  },
  {
   "cell_type": "code",
   "execution_count": null,
   "id": "e2fb1fd6",
   "metadata": {},
   "outputs": [],
   "source": [
    "#plot the prediction accuracy against the actual value\n",
    "df1 = data_prediction.head(30)\n",
    "df1.plot(kind='bar', figsize=(13, 6), )\n",
    "# populate labels for each individual bar\n",
    "plt.title('Prediction Accuracy for (500,10) neurons and 60 epochs')\n",
    "plt.grid(which='major', linestyle='-', linewidth='0.5', color='green')\n",
    "plt.grid(which='minor', linestyle=':', linewidth='0.5', color='black')\n",
    "plt.show()"
   ]
  },
  {
   "cell_type": "code",
   "execution_count": null,
   "id": "094af836",
   "metadata": {},
   "outputs": [],
   "source": [
    "# np.load(\"Simulations/Example Simulation/training_errors.npy\")"
   ]
  },
  {
   "cell_type": "code",
   "execution_count": null,
   "id": "690f8c7c",
   "metadata": {},
   "outputs": [],
   "source": [
    "# np.load(\"Simulations/Example Simulation/full_test_errors.npy\")"
   ]
  },
  {
   "cell_type": "code",
   "execution_count": null,
   "id": "ad8ef3e7",
   "metadata": {},
   "outputs": [],
   "source": [
    "errors = pd.DataFrame({'training_error': np.load(\"Simulations/Example Simulation/500/training_errors.npy\"),'full_test_error': np.load(\"Simulations/Example Simulation/500/full_test_errors.npy\")[1:]})"
   ]
  },
  {
   "cell_type": "code",
   "execution_count": null,
   "id": "2cb02db2",
   "metadata": {},
   "outputs": [],
   "source": [
    "errors.plot(kind='line', figsize=(13, 8),title='Model Error (training,full_test_error) for (500,300,10) neurons and 60 epochs')"
   ]
  },
  {
   "cell_type": "code",
   "execution_count": null,
   "id": "51f8b5f7",
   "metadata": {},
   "outputs": [],
   "source": [
    "errors.to_csv(\"./500/data_simulation_1000_errors.csv\")"
   ]
  },
  {
   "cell_type": "code",
   "execution_count": null,
   "id": "6f936f57",
   "metadata": {},
   "outputs": [],
   "source": [
    "df_e = pd.read_csv(\"./data_simulation_1_errors.csv\")"
   ]
  },
  {
   "cell_type": "code",
   "execution_count": null,
   "id": "e3dbb5ff",
   "metadata": {},
   "outputs": [],
   "source": [
    "df_e.plot(kind='line', figsize=(13, 8),title='Model Error (training,full_test_error) for (500,10) neurons and 60 epochs')"
   ]
  },
  {
   "cell_type": "code",
   "execution_count": null,
   "id": "7763b4c8",
   "metadata": {},
   "outputs": [],
   "source": [
    "# df_e = pd.read_csv(\"./data_prediction_sim_002.csv\")"
   ]
  },
  {
   "cell_type": "code",
   "execution_count": null,
   "id": "ac4efd50",
   "metadata": {},
   "outputs": [],
   "source": [
    "df_e = df_e.drop(['Unnamed: 0'], axis=1)"
   ]
  },
  {
   "cell_type": "code",
   "execution_count": null,
   "id": "ae4f886c",
   "metadata": {},
   "outputs": [],
   "source": [
    "#plot the prediction accuracy against the actual value\n",
    "df1 = df_e.head(30)\n",
    "df1.plot(kind='bar', figsize=(13, 6), )\n",
    "# populate labels for each individual bar\n",
    "plt.title('Prediction Accuracy for (10) neurons and 60 epochs')\n",
    "plt.grid(which='major', linestyle='-', linewidth='0.5', color='green')\n",
    "plt.grid(which='minor', linestyle=':', linewidth='0.5', color='black')\n",
    "plt.show()"
   ]
  },
  {
   "cell_type": "code",
   "execution_count": null,
   "id": "cb6eb772",
   "metadata": {},
   "outputs": [],
   "source": [
    "# df_e = df_e.drop(['Unnamed: 0'], axis=1)"
   ]
  },
  {
   "cell_type": "code",
   "execution_count": null,
   "id": "3ea79e4a",
   "metadata": {},
   "outputs": [],
   "source": [
    "# df_e.plot(kind='line', figsize=(13, 8),title='Model Error (training,full_test_error) for (500,10) neurons and 60 epochs')"
   ]
  },
  {
   "cell_type": "code",
   "execution_count": null,
   "id": "60db585c",
   "metadata": {},
   "outputs": [],
   "source": [
    "np.concatenate([[3,4,5],[6,7,8]], axis=1)"
   ]
  },
  {
   "cell_type": "code",
   "execution_count": null,
   "id": "07ebf469",
   "metadata": {},
   "outputs": [],
   "source": [
    "# program that generate 2 random numbers\n",
    "\n",
    "lottery = np.random.randint(0,1000,2)"
   ]
  },
  {
   "cell_type": "code",
   "execution_count": null,
   "id": "39079740",
   "metadata": {},
   "outputs": [],
   "source": [
    "\n",
    "userInput = int(input(\"Enter a number between 0 and 1000: \"))\n",
    "if userInput in lottery:\n",
    "    print(\"You won!\")\n",
    "else:\n",
    "    print(\"You lost!\")"
   ]
  },
  {
   "cell_type": "code",
   "execution_count": null,
   "id": "85582065",
   "metadata": {},
   "outputs": [],
   "source": [
    "# steps to push a local repo to github\n",
    "# git init\n",
    "# git add .\n",
    "# git commit -m \"first commit\"\n",
    "# git remote add origin url\n",
    "# git push -u origin branch name\n",
    "\n",
    "# OR"
   ]
  },
  {
   "cell_type": "code",
   "execution_count": null,
   "id": "fe8b6d47",
   "metadata": {},
   "outputs": [],
   "source": [
    "#Take a STRING(Word) INPUT from user with length equal to 4 only(program must ask again if len !=4), print all synonyms and meaning of this STRING in python.\n",
    "import nltk\n",
    "nltk.download('wordnet')\n",
    "\n",
    "# Download window opens, fetch wordnet\n",
    "from nltk.corpus import wordnet as wn\n",
    "def synonyms(word):\n",
    "    synonyms = []\n",
    "    for syn in wordnet.synsets(word):\n",
    "        for l in syn.lemmas():\n",
    "            synonyms.append(l.name())\n",
    "    return synonyms\n",
    "\n",
    "word = input(\"Enter a word of length 4: \")\n",
    "\n",
    "print(\"Synonyms of \" + word + \" are: \")\n",
    "print(synonyms(word))\n",
    "\n",
    "\n"
   ]
  },
  {
   "cell_type": "markdown",
   "id": "9ebc3c94",
   "metadata": {},
   "source": [
    "###### "
   ]
  }
 ],
 "metadata": {
  "colab": {
   "name": "Spike_Dendrite_Main.ipynb",
   "provenance": []
  },
  "kernelspec": {
   "display_name": "Python 3 (ipykernel)",
   "language": "python",
   "name": "python3"
  },
  "language_info": {
   "codemirror_mode": {
    "name": "ipython",
    "version": 3
   },
   "file_extension": ".py",
   "mimetype": "text/x-python",
   "name": "python",
   "nbconvert_exporter": "python",
   "pygments_lexer": "ipython3",
   "version": "3.8.11"
  },
  "vscode": {
   "interpreter": {
    "hash": "aee8b7b246df8f9039afb4144a1f6fd8d2ca17a180786b69acc140d282b71a49"
   }
  }
 },
 "nbformat": 4,
 "nbformat_minor": 5
}
 
